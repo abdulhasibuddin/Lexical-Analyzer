{
 "cells": [
  {
   "cell_type": "code",
   "execution_count": 1,
   "metadata": {},
   "outputs": [],
   "source": [
    "#Necessary libraries & modules are imported here:"
   ]
  },
  {
   "cell_type": "code",
   "execution_count": 2,
   "metadata": {},
   "outputs": [
    {
     "name": "stdout",
     "output_type": "stream",
     "text": [
      "Enter code: int main() { \tint id1 = 20; \tprintf(\"%d\",id1); \tscanf('%d, &id1); }\n"
     ]
    }
   ],
   "source": [
    "#Taking input string:\n",
    "inputString = input(\"Enter code: \")"
   ]
  },
  {
   "cell_type": "code",
   "execution_count": 3,
   "metadata": {},
   "outputs": [
    {
     "data": {
      "text/plain": [
       "'int main() { \\tint id1 = 20; \\tprintf(\"%d\",id1); \\tscanf(\\'%d, &id1); }'"
      ]
     },
     "execution_count": 3,
     "metadata": {},
     "output_type": "execute_result"
    }
   ],
   "source": [
    "inputString"
   ]
  },
  {
   "cell_type": "code",
   "execution_count": 4,
   "metadata": {},
   "outputs": [
    {
     "name": "stdout",
     "output_type": "stream",
     "text": [
      "['_', 'A', 'B', 'C', 'D', 'E', 'F', 'G', 'H', 'I', 'J', 'K', 'L', 'M', 'N', 'O', 'P', 'Q', 'R', 'S', 'T', 'U', 'V', 'W', 'X', 'Y', 'Z', 'a', 'b', 'c', 'd', 'e', 'f', 'g', 'h', 'i', 'j', 'k', 'l', 'm', 'n', 'o', 'p', 'q', 'r', 's', 't', 'u', 'v', 'w', 'x', 'y', 'z']\n"
     ]
    }
   ],
   "source": [
    "list_letter = ['_','A','B','C','D','E','F','G','H','I','J','K','L','M','N','O','P','Q','R','S','T','U','V','W','X','Y','Z',\n",
    "                 'a','b','c','d','e','f','g','h','i','j','k','l','m','n','o','p','q','r','s','t','u','v','w','x','y','z']\n",
    "print(list_letter)"
   ]
  },
  {
   "cell_type": "code",
   "execution_count": 5,
   "metadata": {},
   "outputs": [
    {
     "data": {
      "text/plain": [
       "['0', '1', '2', '3', '4', '5', '6', '7', '8', '9']"
      ]
     },
     "execution_count": 5,
     "metadata": {},
     "output_type": "execute_result"
    }
   ],
   "source": [
    "list_digit = ['0','1','2','3','4','5','6','7','8','9']\n",
    "list_digit"
   ]
  },
  {
   "cell_type": "code",
   "execution_count": 6,
   "metadata": {},
   "outputs": [
    {
     "data": {
      "text/plain": [
       "['+', '-', '*', '/', '=', '<', '>', '~', '%', '!', '^']"
      ]
     },
     "execution_count": 6,
     "metadata": {},
     "output_type": "execute_result"
    }
   ],
   "source": [
    "#Necessary variables are declared here:\n",
    "list_operator = ['+','-','*','/','=','<','>','~','%','!','^']\n",
    "list_operator"
   ]
  },
  {
   "cell_type": "code",
   "execution_count": 7,
   "metadata": {},
   "outputs": [
    {
     "data": {
      "text/plain": [
       "['(', ')', '[', ']', '{', '}', ';', '\"', \"'\"]"
      ]
     },
     "execution_count": 7,
     "metadata": {},
     "output_type": "execute_result"
    }
   ],
   "source": [
    "list_symbol = ['(',')','[',']','{','}',';','\"','\\'']\n",
    "list_symbol"
   ]
  },
  {
   "cell_type": "code",
   "execution_count": 8,
   "metadata": {},
   "outputs": [
    {
     "name": "stdout",
     "output_type": "stream",
     "text": [
      "['main', 'int', 'float', 'char', 'for', 'while', 'if', 'else if', 'else', 'printf', 'scanf']\n"
     ]
    }
   ],
   "source": [
    "#dict_reserved = {'int':1,'float':2,'char':3,'for':4,'while':5,'if':6,'else if':7,'else':8,'printf':9,'scanf':10}\n",
    "list_reserved = ['main','int','float','char','for','while','if','else if','else','printf','scanf']\n",
    "print(list_reserved)"
   ]
  },
  {
   "cell_type": "code",
   "execution_count": 9,
   "metadata": {},
   "outputs": [
    {
     "data": {
      "text/plain": [
       "[]"
      ]
     },
     "execution_count": 9,
     "metadata": {},
     "output_type": "execute_result"
    }
   ],
   "source": [
    "stream_of_token = []\n",
    "stream_of_token"
   ]
  },
  {
   "cell_type": "code",
   "execution_count": 10,
   "metadata": {},
   "outputs": [
    {
     "data": {
      "text/plain": [
       "[]"
      ]
     },
     "execution_count": 10,
     "metadata": {},
     "output_type": "execute_result"
    }
   ],
   "source": [
    "list_identifier = []\n",
    "list_identifier"
   ]
  },
  {
   "cell_type": "code",
   "execution_count": 11,
   "metadata": {},
   "outputs": [
    {
     "data": {
      "text/plain": [
       "False"
      ]
     },
     "execution_count": 11,
     "metadata": {},
     "output_type": "execute_result"
    }
   ],
   "source": [
    "start_char_is_digit = False\n",
    "start_char_is_digit"
   ]
  },
  {
   "cell_type": "code",
   "execution_count": 12,
   "metadata": {},
   "outputs": [
    {
     "data": {
      "text/plain": [
       "False"
      ]
     },
     "execution_count": 12,
     "metadata": {},
     "output_type": "execute_result"
    }
   ],
   "source": [
    "number_is_float = False\n",
    "number_is_float"
   ]
  },
  {
   "cell_type": "code",
   "execution_count": 13,
   "metadata": {},
   "outputs": [
    {
     "data": {
      "text/plain": [
       "False"
      ]
     },
     "execution_count": 13,
     "metadata": {},
     "output_type": "execute_result"
    }
   ],
   "source": [
    "number_is_negative = False\n",
    "number_is_negative"
   ]
  },
  {
   "cell_type": "code",
   "execution_count": 14,
   "metadata": {},
   "outputs": [
    {
     "data": {
      "text/plain": [
       "''"
      ]
     },
     "execution_count": 14,
     "metadata": {},
     "output_type": "execute_result"
    }
   ],
   "source": [
    "startingOperator = ''\n",
    "startingOperator"
   ]
  },
  {
   "cell_type": "code",
   "execution_count": 15,
   "metadata": {},
   "outputs": [
    {
     "data": {
      "text/plain": [
       "''"
      ]
     },
     "execution_count": 15,
     "metadata": {},
     "output_type": "execute_result"
    }
   ],
   "source": [
    "current_lexeme = ''\n",
    "current_lexeme"
   ]
  },
  {
   "cell_type": "code",
   "execution_count": 16,
   "metadata": {},
   "outputs": [],
   "source": [
    "def check_if_reserved_word(token):\n",
    "    print(token)\n",
    "    if token in list_reserved:\n",
    "        current_token = ('KEYWORD',token)\n",
    "        stream_of_token.append(current_token)\n",
    "    else:\n",
    "        num_id = len(list_identifier)\n",
    "        current_token = (num_id+1,token)\n",
    "        list_identifier.append(current_token)\n",
    "        \n",
    "        current_token = ('id',num_id+1)\n",
    "        stream_of_token.append(current_token)\n",
    "    return"
   ]
  },
  {
   "cell_type": "code",
   "execution_count": 17,
   "metadata": {},
   "outputs": [],
   "source": [
    "def single_char_operator(op): \n",
    "    if op=='+':\n",
    "        cur_token = ('OP','PLUS')\n",
    "    elif op=='-':\n",
    "        cur_token = ('OP','MINUS')\n",
    "    elif op=='*':\n",
    "        cur_token = ('OP','MULTIPLY')\n",
    "    elif op=='/':\n",
    "        cur_token = ('OP','DIVIDE')\n",
    "    elif op=='^':\n",
    "        cur_token = ('OP','POWER')\n",
    "    elif op=='~':\n",
    "        cur_token = ('OP','NOT')\n",
    "    elif op=='%':\n",
    "        cur_token = ('OP','MODULO')\n",
    "    elif op=='<':\n",
    "        cur_token = ('OP','LESS_THAN')\n",
    "    elif op=='>':\n",
    "        cur_token = ('OP','GREATER_THAN')\n",
    "    elif op=='=':\n",
    "        cur_token = ('OP','EQUAL')\n",
    "        \n",
    "    stream_of_token.append(cur_token)\n",
    "    return"
   ]
  },
  {
   "cell_type": "code",
   "execution_count": 18,
   "metadata": {},
   "outputs": [],
   "source": [
    "def double_char_operator(start_op,cur_op):\n",
    "    print(\"start_op= \"+start_op+\"; cur_op= \"+cur_op)\n",
    "    global number_is_negative\n",
    "    cur_token = ''\n",
    "    \n",
    "    if start_op=='=' and cur_op=='=':\n",
    "        cur_token = ('OP','ASSIGN')\n",
    "    elif start_op=='+':\n",
    "        cur_token = ('OP','INCREAMENT')\n",
    "    elif start_op=='-':\n",
    "        cur_token = ('OP','DECREAMENT')\n",
    "    elif start_op=='*':\n",
    "        cur_token = ('OP','MULTIPLY_AND_ASSIGN')\n",
    "    elif start_op=='/':\n",
    "        cur_token= ('OP','DIVIDE_AND_ASSIGN')\n",
    "    elif start_op=='<':\n",
    "        cur_token = ('OP','LE')\n",
    "    elif start_op=='>':\n",
    "        cur_token = ('OP','GE')\n",
    "    elif start_op=='!':\n",
    "        cur_token = ('OP','NE')\n",
    "    elif start_op=='%':\n",
    "        cur_token = ('OP','MODULO_AND_ASSIGN')\n",
    "    elif start_op=='=' and cur_op=='-':\n",
    "        number_is_negative = True\n",
    "    \n",
    "    stream_of_token.append(cur_token)\n",
    "    return"
   ]
  },
  {
   "cell_type": "code",
   "execution_count": 19,
   "metadata": {},
   "outputs": [],
   "source": [
    "def check_symbol(symbol):\n",
    "    cur_token = ''\n",
    "    \n",
    "    if symbol=='(':\n",
    "        cur_token = ('SYMBOL','OPENING_PARENTHESES')\n",
    "    elif symbol==')':\n",
    "        cur_token = ('SYMBOL','CLOSING_PARENTHESES')\n",
    "    elif symbol=='{':\n",
    "        cur_token = ('SYMBOL','OPENING_CURLY_BRACKET')\n",
    "    elif symbol=='}':\n",
    "        cur_token = ('SYMBOL','CLOSING_CURLY_BRACKET')\n",
    "    elif symbol=='[':\n",
    "        cur_token = ('SYMBOL','OPENING_SQUARE_BRACKET')\n",
    "    elif symbol==']':\n",
    "        cur_token = ('SYMBOL','CLOSING_SQUARE_BRACKET')\n",
    "    elif symbol==';':\n",
    "        cur_token = ('SYMBOL','EOL') #EOL -> End Of Line\n",
    "        \n",
    "    stream_of_token.append(cur_token)\n",
    "    return"
   ]
  },
  {
   "cell_type": "code",
   "execution_count": 20,
   "metadata": {},
   "outputs": [],
   "source": [
    "def ckeck_start_char(ch):\n",
    "    global current_lexeme, start_char_is_digit\n",
    "    \n",
    "    if ch in list_operator and current_lexeme=='': #If the start character is an operator...\n",
    "        #start_char_is_op = True\n",
    "        current_lexeme = ch\n",
    "        return\n",
    "    \n",
    "    if ch in list_letter and current_lexeme=='': #If the start character is a letter...\n",
    "        current_lexeme = ch\n",
    "        return\n",
    "    \n",
    "    if ch in list_digit and current_lexeme=='': #If the start character is a digit...\n",
    "        start_char_is_digit = True\n",
    "        current_lexeme = ch\n",
    "        return\n",
    "    \n",
    "    if ch in list_symbol and current_lexeme=='': #If the start character is a symbol...\n",
    "        check_symbol(ch)\n",
    "        return"
   ]
  },
  {
   "cell_type": "code",
   "execution_count": 21,
   "metadata": {},
   "outputs": [
    {
     "data": {
      "text/plain": [
       "67"
      ]
     },
     "execution_count": 21,
     "metadata": {},
     "output_type": "execute_result"
    }
   ],
   "source": [
    "counter = len(inputString)\n",
    "counter"
   ]
  },
  {
   "cell_type": "code",
   "execution_count": 22,
   "metadata": {},
   "outputs": [
    {
     "name": "stdout",
     "output_type": "stream",
     "text": [
      "counter= 66\n",
      "ch= i\n",
      "current_lexeme=\n",
      "counter= 65\n",
      "ch= n\n",
      "current_lexeme=i\n",
      "counter= 64\n",
      "ch= t\n",
      "current_lexeme=in\n",
      "counter= 63\n",
      "ch=  \n",
      "current_lexeme=int\n",
      "int\n",
      "counter= 62\n",
      "ch= m\n",
      "current_lexeme=\n",
      "counter= 61\n",
      "ch= a\n",
      "current_lexeme=m\n",
      "counter= 60\n",
      "ch= i\n",
      "current_lexeme=ma\n",
      "counter= 59\n",
      "ch= n\n",
      "current_lexeme=mai\n",
      "counter= 58\n",
      "ch= (\n",
      "current_lexeme=main\n",
      "main\n",
      "counter= 57\n",
      "ch= )\n",
      "current_lexeme=\n",
      "counter= 56\n",
      "ch=  \n",
      "current_lexeme=\n",
      "counter= 55\n",
      "ch= {\n",
      "current_lexeme=\n",
      "counter= 54\n",
      "ch=  \n",
      "current_lexeme=\n",
      "counter= 53\n",
      "ch= \t\n",
      "current_lexeme=\n",
      "counter= 52\n",
      "ch= i\n",
      "current_lexeme=\n",
      "counter= 51\n",
      "ch= n\n",
      "current_lexeme=i\n",
      "counter= 50\n",
      "ch= t\n",
      "current_lexeme=in\n",
      "counter= 49\n",
      "ch=  \n",
      "current_lexeme=int\n",
      "int\n",
      "counter= 48\n",
      "ch= i\n",
      "current_lexeme=\n",
      "counter= 47\n",
      "ch= d\n",
      "current_lexeme=i\n",
      "counter= 46\n",
      "ch= 1\n",
      "current_lexeme=id\n",
      "counter= 45\n",
      "ch=  \n",
      "current_lexeme=id1\n",
      "id1\n",
      "counter= 44\n",
      "ch= =\n",
      "current_lexeme=\n",
      "counter= 43\n",
      "ch=  \n",
      "current_lexeme==\n",
      "f2\n",
      "counter= 42\n",
      "ch= 2\n",
      "current_lexeme=\n",
      "counter= 41\n",
      "ch= 0\n",
      "current_lexeme=2\n",
      "counter= 40\n",
      "ch= ;\n",
      "current_lexeme=20\n",
      "counter= 39\n",
      "ch=  \n",
      "current_lexeme=\n",
      "counter= 38\n",
      "ch= \t\n",
      "current_lexeme=\n",
      "counter= 37\n",
      "ch= p\n",
      "current_lexeme=\n",
      "counter= 36\n",
      "ch= r\n",
      "current_lexeme=p\n",
      "counter= 35\n",
      "ch= i\n",
      "current_lexeme=pr\n",
      "counter= 34\n",
      "ch= n\n",
      "current_lexeme=pri\n",
      "counter= 33\n",
      "ch= t\n",
      "current_lexeme=prin\n",
      "counter= 32\n",
      "ch= f\n",
      "current_lexeme=print\n",
      "counter= 31\n",
      "ch= (\n",
      "current_lexeme=printf\n",
      "printf\n",
      "counter= 30\n",
      "ch= \"\n",
      "current_lexeme=\n",
      "counter= 29\n",
      "ch= %\n",
      "current_lexeme=\n",
      "counter= 28\n",
      "ch= d\n",
      "current_lexeme=%\n",
      "f2\n",
      "False\n",
      "counter= 27\n",
      "ch= \"\n",
      "current_lexeme=d\n",
      "d\n",
      "counter= 26\n",
      "ch= ,\n",
      "current_lexeme=\n",
      "counter= 25\n",
      "ch= i\n",
      "current_lexeme=\n",
      "counter= 24\n",
      "ch= d\n",
      "current_lexeme=i\n",
      "counter= 23\n",
      "ch= 1\n",
      "current_lexeme=id\n",
      "counter= 22\n",
      "ch= )\n",
      "current_lexeme=id1\n",
      "id1\n",
      "counter= 21\n",
      "ch= ;\n",
      "current_lexeme=\n",
      "counter= 20\n",
      "ch=  \n",
      "current_lexeme=\n",
      "counter= 19\n",
      "ch= \t\n",
      "current_lexeme=\n",
      "counter= 18\n",
      "ch= s\n",
      "current_lexeme=\n",
      "counter= 17\n",
      "ch= c\n",
      "current_lexeme=s\n",
      "counter= 16\n",
      "ch= a\n",
      "current_lexeme=sc\n",
      "counter= 15\n",
      "ch= n\n",
      "current_lexeme=sca\n",
      "counter= 14\n",
      "ch= f\n",
      "current_lexeme=scan\n",
      "counter= 13\n",
      "ch= (\n",
      "current_lexeme=scanf\n",
      "scanf\n",
      "counter= 12\n",
      "ch= '\n",
      "current_lexeme=\n",
      "counter= 11\n",
      "ch= %\n",
      "current_lexeme=\n",
      "counter= 10\n",
      "ch= d\n",
      "current_lexeme=%\n",
      "f2\n",
      "False\n",
      "counter= 9\n",
      "ch= ,\n",
      "current_lexeme=d\n",
      "d\n",
      "counter= 8\n",
      "ch=  \n",
      "current_lexeme=\n",
      "counter= 7\n",
      "ch= &\n",
      "current_lexeme=\n",
      "counter= 6\n",
      "ch= i\n",
      "current_lexeme=\n",
      "counter= 5\n",
      "ch= d\n",
      "current_lexeme=i\n",
      "counter= 4\n",
      "ch= 1\n",
      "current_lexeme=id\n",
      "counter= 3\n",
      "ch= )\n",
      "current_lexeme=id1\n",
      "id1\n",
      "counter= 2\n",
      "ch= ;\n",
      "current_lexeme=\n",
      "counter= 1\n",
      "ch=  \n",
      "current_lexeme=\n",
      "counter= 0\n",
      "ch= }\n",
      "current_lexeme=\n"
     ]
    }
   ],
   "source": [
    "#Traversing through the input string:\n",
    "for ch in inputString:\n",
    "    counter -= 1\n",
    "    print('counter=',counter)\n",
    "    print('ch= '+ch)###\n",
    "    print('current_lexeme='+current_lexeme)\n",
    "    \n",
    "    #Start symbol checking:\n",
    "    if current_lexeme=='':\n",
    "        ckeck_start_char(ch)\n",
    "        continue\n",
    "    \n",
    "    if current_lexeme in list_operator and ch not in list_operator: #If this is a single character operator...\n",
    "        print(\"f2\")\n",
    "        single_char_operator(current_lexeme)\n",
    "        current_lexeme = ''\n",
    "        if ch == ' ': #If current lexeme is terminated by space...\n",
    "            continue\n",
    "        else:\n",
    "            ckeck_start_char(ch)\n",
    "            print(start_char_is_digit)###\n",
    "            continue\n",
    "        \n",
    "    if current_lexeme in list_operator and ch in list_operator: #If this is a double character operator...\n",
    "        print(\"f1\")\n",
    "        double_char_operator(current_lexeme,ch)\n",
    "        current_lexeme = ''\n",
    "        continue\n",
    "    \n",
    "    #If the current character is a letter or digit, and is not the start character of the lexeme:\n",
    "    if ch in list_digit or ch in list_letter: \n",
    "        current_lexeme += ch\n",
    "        if counter==0: #If ch is the last element...\n",
    "            ch = ' '\n",
    "        else:\n",
    "            continue\n",
    "        \n",
    "    if (ch not in list_letter and ch not in list_digit) and start_char_is_digit==False: #If the lexeme is either a keyword or an identifier...\n",
    "        if current_lexeme is not '':\n",
    "            check_if_reserved_word(current_lexeme) #Check if the current lexeme is a keyword or an identifier.\n",
    "        \n",
    "        current_lexeme = ''\n",
    "        if ch is not ' ': #If current lexeme is terminated by space...\n",
    "            ckeck_start_char(ch) \n",
    "        continue\n",
    "        #else if current lexeme is not terminated by space, continue operations on current character...\n",
    "    \n",
    "    if ch=='.' and start_char_is_digit==True: #If the floating point symbol(.) is found in current 'number' type lexeme...\n",
    "        number_is_float = True\n",
    "        current_lexeme += ch\n",
    "        continue\n",
    "    \n",
    "    if (ch not in list_letter and ch not in list_digit) and start_char_is_digit==True: #If the lexeme is a number...\n",
    "        start_char_is_digit = False\n",
    "        \n",
    "        if current_lexeme is not '':\n",
    "            if number_is_negative is True:\n",
    "                current_lexeme = '-'+current_lexeme\n",
    "                \n",
    "            if number_is_float==False: #If the number is a floating point...\n",
    "                cur_token = ('INTEGER',current_lexeme)\n",
    "                stream_of_token.append(cur_token)\n",
    "            else: #If the number is an integer...\n",
    "                number_is_float = False\n",
    "                cur_token = ('FLOAT',current_lexeme)\n",
    "                stream_of_token.append(cur_token)\n",
    "        \n",
    "        current_lexeme = ''\n",
    "        if ch is not ' ': #If current lexeme is terminated by space...\n",
    "            ckeck_start_char(ch)\n",
    "        continue\n",
    "        #else if current lexeme is not terminated by space, continue operations on current character..."
   ]
  },
  {
   "cell_type": "code",
   "execution_count": 23,
   "metadata": {},
   "outputs": [
    {
     "name": "stdout",
     "output_type": "stream",
     "text": [
      "[(1, 'id1'), (2, 'd'), (3, 'id1'), (4, 'd'), (5, 'id1')]\n"
     ]
    }
   ],
   "source": [
    "print(list_identifier)"
   ]
  },
  {
   "cell_type": "code",
   "execution_count": 24,
   "metadata": {},
   "outputs": [
    {
     "data": {
      "text/plain": [
       "[('KEYWORD', 'int'),\n",
       " ('KEYWORD', 'main'),\n",
       " ('SYMBOL', 'OPENING_PARENTHESES'),\n",
       " ('SYMBOL', 'CLOSING_PARENTHESES'),\n",
       " ('SYMBOL', 'OPENING_CURLY_BRACKET'),\n",
       " ('KEYWORD', 'int'),\n",
       " ('id', 1),\n",
       " ('OP', 'EQUAL'),\n",
       " ('INTEGER', '20'),\n",
       " ('SYMBOL', 'EOL'),\n",
       " ('KEYWORD', 'printf'),\n",
       " ('SYMBOL', 'OPENING_PARENTHESES'),\n",
       " '',\n",
       " ('OP', 'MODULO'),\n",
       " ('id', 2),\n",
       " '',\n",
       " ('id', 3),\n",
       " ('SYMBOL', 'CLOSING_PARENTHESES'),\n",
       " ('SYMBOL', 'EOL'),\n",
       " ('KEYWORD', 'scanf'),\n",
       " ('SYMBOL', 'OPENING_PARENTHESES'),\n",
       " '',\n",
       " ('OP', 'MODULO'),\n",
       " ('id', 4),\n",
       " ('id', 5),\n",
       " ('SYMBOL', 'CLOSING_PARENTHESES'),\n",
       " ('SYMBOL', 'EOL'),\n",
       " ('SYMBOL', 'CLOSING_CURLY_BRACKET')]"
      ]
     },
     "execution_count": 24,
     "metadata": {},
     "output_type": "execute_result"
    }
   ],
   "source": [
    "stream_of_token"
   ]
  },
  {
   "cell_type": "code",
   "execution_count": null,
   "metadata": {},
   "outputs": [],
   "source": []
  }
 ],
 "metadata": {
  "kernelspec": {
   "display_name": "Python 3",
   "language": "python",
   "name": "python3"
  },
  "language_info": {
   "codemirror_mode": {
    "name": "ipython",
    "version": 3
   },
   "file_extension": ".py",
   "mimetype": "text/x-python",
   "name": "python",
   "nbconvert_exporter": "python",
   "pygments_lexer": "ipython3",
   "version": "3.6.4"
  }
 },
 "nbformat": 4,
 "nbformat_minor": 2
}
